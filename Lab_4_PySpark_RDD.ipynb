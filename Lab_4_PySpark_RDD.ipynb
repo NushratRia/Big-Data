{
  "nbformat": 4,
  "nbformat_minor": 0,
  "metadata": {
    "colab": {
      "provenance": [],
      "authorship_tag": "ABX9TyN1n2KEZCjxfIlX/iWNMuTR",
      "include_colab_link": true
    },
    "kernelspec": {
      "name": "python3",
      "display_name": "Python 3"
    },
    "language_info": {
      "name": "python"
    }
  },
  "cells": [
    {
      "cell_type": "markdown",
      "metadata": {
        "id": "view-in-github",
        "colab_type": "text"
      },
      "source": [
        "<a href=\"https://colab.research.google.com/github/NushratRia/Big-Data/blob/main/Lab_4_PySpark_RDD.ipynb\" target=\"_parent\"><img src=\"https://colab.research.google.com/assets/colab-badge.svg\" alt=\"Open In Colab\"/></a>"
      ]
    },
    {
      "cell_type": "markdown",
      "source": [],
      "metadata": {
        "id": "BbAVuIJWsLI9"
      }
    },
    {
      "cell_type": "markdown",
      "source": [
        "**Resilient Distributed Datasets**, often known as RDDs, are the components used in a cluster's parallel processing that run and operate across numerous nodes. Since RDDs are immutable elements, you cannot alter them after creation"
      ],
      "metadata": {
        "id": "B2lactGIsLC4"
      }
    },
    {
      "cell_type": "code",
      "source": [
        "!pip install PySpark"
      ],
      "metadata": {
        "colab": {
          "base_uri": "https://localhost:8080/"
        },
        "id": "8KrNDmCXqq2l",
        "outputId": "aa428950-fb82-4b1e-fd53-1cebd27924f7"
      },
      "execution_count": 2,
      "outputs": [
        {
          "output_type": "stream",
          "name": "stdout",
          "text": [
            "Collecting PySpark\n",
            "  Downloading pyspark-3.4.1.tar.gz (310.8 MB)\n",
            "\u001b[2K     \u001b[90m━━━━━━━━━━━━━━━━━━━━━━━━━━━━━━━━━━━━━━━\u001b[0m \u001b[32m310.8/310.8 MB\u001b[0m \u001b[31m3.7 MB/s\u001b[0m eta \u001b[36m0:00:00\u001b[0m\n",
            "\u001b[?25h  Preparing metadata (setup.py) ... \u001b[?25l\u001b[?25hdone\n",
            "Requirement already satisfied: py4j==0.10.9.7 in /usr/local/lib/python3.10/dist-packages (from PySpark) (0.10.9.7)\n",
            "Building wheels for collected packages: PySpark\n",
            "  Building wheel for PySpark (setup.py) ... \u001b[?25l\u001b[?25hdone\n",
            "  Created wheel for PySpark: filename=pyspark-3.4.1-py2.py3-none-any.whl size=311285387 sha256=ba0832d0726cbcc21adb6d25ddf55ac535e1c82c8964696d908abef2e3f9b1ee\n",
            "  Stored in directory: /root/.cache/pip/wheels/0d/77/a3/ff2f74cc9ab41f8f594dabf0579c2a7c6de920d584206e0834\n",
            "Successfully built PySpark\n",
            "Installing collected packages: PySpark\n",
            "Successfully installed PySpark-3.4.1\n"
          ]
        }
      ]
    },
    {
      "cell_type": "code",
      "source": [
        "import pyspark"
      ],
      "metadata": {
        "id": "W1g6XY7lrKjh"
      },
      "execution_count": 3,
      "outputs": []
    },
    {
      "cell_type": "code",
      "execution_count": 4,
      "metadata": {
        "id": "hE6MwjuTqXio"
      },
      "outputs": [],
      "source": [
        "from pyspark.sql import SparkSession\n",
        "spark = SparkSession.builder.getOrCreate()"
      ]
    },
    {
      "cell_type": "code",
      "source": [
        "rdds = spark.sparkContext.parallelize([(\"Dhaka\", 1), (\"CTG\", 2), (\"SYL\", 3)])\n",
        "#parallelize (method to create RDDS)"
      ],
      "metadata": {
        "id": "8mODnOi6rORS"
      },
      "execution_count": 5,
      "outputs": []
    },
    {
      "cell_type": "code",
      "source": [
        "rdds"
      ],
      "metadata": {
        "colab": {
          "base_uri": "https://localhost:8080/"
        },
        "id": "_LWwRJIErWw1",
        "outputId": "5fc66ced-cc80-4947-ef50-7f4a38ccc1ea"
      },
      "execution_count": 6,
      "outputs": [
        {
          "output_type": "execute_result",
          "data": {
            "text/plain": [
              "ParallelCollectionRDD[0] at readRDDFromFile at PythonRDD.scala:287"
            ]
          },
          "metadata": {},
          "execution_count": 6
        }
      ]
    },
    {
      "cell_type": "code",
      "source": [
        "rdds.collect()"
      ],
      "metadata": {
        "colab": {
          "base_uri": "https://localhost:8080/"
        },
        "id": "23EFvRRSr0wG",
        "outputId": "c6dd6294-d5a4-4ee0-c475-e82326003cc8"
      },
      "execution_count": 7,
      "outputs": [
        {
          "output_type": "execute_result",
          "data": {
            "text/plain": [
              "[('Dhaka', 1), ('CTG', 2), ('SYL', 3)]"
            ]
          },
          "metadata": {},
          "execution_count": 7
        }
      ]
    },
    {
      "cell_type": "code",
      "source": [
        "rdds.count() #total number of Tuples in rdds"
      ],
      "metadata": {
        "colab": {
          "base_uri": "https://localhost:8080/"
        },
        "id": "dY_5HCCWr36A",
        "outputId": "f2f67de7-8499-48bf-ade4-389a1a4dfc26"
      },
      "execution_count": 8,
      "outputs": [
        {
          "output_type": "execute_result",
          "data": {
            "text/plain": [
              "3"
            ]
          },
          "metadata": {},
          "execution_count": 8
        }
      ]
    },
    {
      "cell_type": "markdown",
      "source": [
        "Creating from RDD"
      ],
      "metadata": {
        "id": "g8nUkdurjEYs"
      }
    },
    {
      "cell_type": "code",
      "source": [
        "from datetime import date, datetime"
      ],
      "metadata": {
        "id": "eEkS181dr6MW"
      },
      "execution_count": 9,
      "outputs": []
    },
    {
      "cell_type": "code",
      "source": [
        "rdds1 = spark.sparkContext.parallelize([(1, 1.0, \"string1\", date(2023,1,1), datetime(2023,1,12,0)),\n",
        "                                        (2, 2.0, \"string2\", date(2023,2,1), datetime(2023,1,2,12,0)),\n",
        "                                        (3, 3.0, \"string3\", date(2023,3,1), datetime(2023,1,3,12,0))])\n",
        "#parallelize (method to create RDDS)"
      ],
      "metadata": {
        "id": "FVh8bJqljN0V"
      },
      "execution_count": 10,
      "outputs": []
    },
    {
      "cell_type": "code",
      "source": [
        "rdds1"
      ],
      "metadata": {
        "colab": {
          "base_uri": "https://localhost:8080/"
        },
        "id": "se5AxxHpkVhE",
        "outputId": "c684610a-8a88-4fd1-d0f0-f98232d97dc7"
      },
      "execution_count": 11,
      "outputs": [
        {
          "output_type": "execute_result",
          "data": {
            "text/plain": [
              "ParallelCollectionRDD[2] at readRDDFromFile at PythonRDD.scala:287"
            ]
          },
          "metadata": {},
          "execution_count": 11
        }
      ]
    },
    {
      "cell_type": "code",
      "source": [
        "rdds1.collect()"
      ],
      "metadata": {
        "id": "pa12grXekZga",
        "outputId": "fdf485ba-eafe-4b7d-fcdb-93330c0e6d0c",
        "colab": {
          "base_uri": "https://localhost:8080/"
        }
      },
      "execution_count": 12,
      "outputs": [
        {
          "output_type": "execute_result",
          "data": {
            "text/plain": [
              "[(1,\n",
              "  1.0,\n",
              "  'string1',\n",
              "  datetime.date(2023, 1, 1),\n",
              "  datetime.datetime(2023, 1, 12, 0, 0)),\n",
              " (2,\n",
              "  2.0,\n",
              "  'string2',\n",
              "  datetime.date(2023, 2, 1),\n",
              "  datetime.datetime(2023, 1, 2, 12, 0)),\n",
              " (3,\n",
              "  3.0,\n",
              "  'string3',\n",
              "  datetime.date(2023, 3, 1),\n",
              "  datetime.datetime(2023, 1, 3, 12, 0))]"
            ]
          },
          "metadata": {},
          "execution_count": 12
        }
      ]
    },
    {
      "cell_type": "code",
      "source": [
        "#rdd into dataframe\n",
        "df = spark.createDataFrame(rdds1, schema=[\"num\", \"float\", \"string\", \"date\", \"datetime\"])\n",
        "#schema to define datatypes"
      ],
      "metadata": {
        "id": "cPi4pz3tkdWK"
      },
      "execution_count": 14,
      "outputs": []
    },
    {
      "cell_type": "code",
      "source": [
        "df"
      ],
      "metadata": {
        "colab": {
          "base_uri": "https://localhost:8080/"
        },
        "id": "186a9vX4N7NM",
        "outputId": "d8237740-4749-4950-c4b8-ddc84cff5a27"
      },
      "execution_count": 15,
      "outputs": [
        {
          "output_type": "execute_result",
          "data": {
            "text/plain": [
              "DataFrame[num: bigint, float: double, string: string, date: date, datetime: timestamp]"
            ]
          },
          "metadata": {},
          "execution_count": 15
        }
      ]
    },
    {
      "cell_type": "code",
      "source": [
        "df.show()"
      ],
      "metadata": {
        "colab": {
          "base_uri": "https://localhost:8080/"
        },
        "id": "FEELt5jkOcTJ",
        "outputId": "ab308f4d-98bb-4a6e-b7cc-60c0a88af644"
      },
      "execution_count": 16,
      "outputs": [
        {
          "output_type": "stream",
          "name": "stdout",
          "text": [
            "+---+-----+-------+----------+-------------------+\n",
            "|num|float| string|      date|           datetime|\n",
            "+---+-----+-------+----------+-------------------+\n",
            "|  1|  1.0|string1|2023-01-01|2023-01-12 00:00:00|\n",
            "|  2|  2.0|string2|2023-02-01|2023-01-02 12:00:00|\n",
            "|  3|  3.0|string3|2023-03-01|2023-01-03 12:00:00|\n",
            "+---+-----+-------+----------+-------------------+\n",
            "\n"
          ]
        }
      ]
    },
    {
      "cell_type": "code",
      "source": [
        "df.show(1)"
      ],
      "metadata": {
        "colab": {
          "base_uri": "https://localhost:8080/"
        },
        "id": "bMKaXE4rOtnm",
        "outputId": "3e9698a6-7de1-438a-e189-036f646e2665"
      },
      "execution_count": 17,
      "outputs": [
        {
          "output_type": "stream",
          "name": "stdout",
          "text": [
            "+---+-----+-------+----------+-------------------+\n",
            "|num|float| string|      date|           datetime|\n",
            "+---+-----+-------+----------+-------------------+\n",
            "|  1|  1.0|string1|2023-01-01|2023-01-12 00:00:00|\n",
            "+---+-----+-------+----------+-------------------+\n",
            "only showing top 1 row\n",
            "\n"
          ]
        }
      ]
    },
    {
      "cell_type": "code",
      "source": [
        "df.printSchema()"
      ],
      "metadata": {
        "colab": {
          "base_uri": "https://localhost:8080/"
        },
        "id": "MyVZFiTSOy4-",
        "outputId": "7e8d2dcc-fd53-4aaf-dc63-0bab6639faaa"
      },
      "execution_count": 18,
      "outputs": [
        {
          "output_type": "stream",
          "name": "stdout",
          "text": [
            "root\n",
            " |-- num: long (nullable = true)\n",
            " |-- float: double (nullable = true)\n",
            " |-- string: string (nullable = true)\n",
            " |-- date: date (nullable = true)\n",
            " |-- datetime: timestamp (nullable = true)\n",
            "\n"
          ]
        }
      ]
    },
    {
      "cell_type": "markdown",
      "source": [
        "RDD example 1"
      ],
      "metadata": {
        "id": "AsIU5E5wYN-z"
      }
    },
    {
      "cell_type": "code",
      "source": [
        "users_list_0 = [\"1|John|London\", \"2|Martin|New York\", \"3|Sam|Sydney\", \"4|Alan|Mexico City\", \"5|Jacob|Florida\"]\n",
        "print(users_list_0)\n",
        "\n",
        "users_list_0_rdd = spark.sparkContext.parallelize(users_list_0)\n",
        "\n",
        "users_list_0_rdd = users_list_0_rdd.map(lambda ele: (int(ele.split('|')[0]), ele.split('|')[1], ele.split('|')[2]))\n",
        "users_df_0 = spark.createDataFrame(users_list_0_rdd)\n",
        "users_df_0.show(10)\n",
        "users_df_0.printSchema()\n",
        "\n",
        "from pyspark.sql.types import StructType, StructField, IntegerType, StringType\n",
        "\n",
        "users_schema = StructType([ StructField(\"id\", IntegerType(), True),\n",
        "                           StructField(\"name\", StringType(), True),\n",
        "                        StructField(\"city\", StringType(), True)])\n",
        "\n",
        "users_df_01 = spark.createDataFrame(users_list_0_rdd, schema=users_schema)\n",
        "users_df_01.show(10)\n",
        "users_df_01.printSchema()"
      ],
      "metadata": {
        "id": "UmyIoDajqw80",
        "colab": {
          "base_uri": "https://localhost:8080/"
        },
        "outputId": "eaf66f60-4e05-4495-999f-f54259e69a47"
      },
      "execution_count": 26,
      "outputs": [
        {
          "output_type": "stream",
          "name": "stdout",
          "text": [
            "['1|John|London', '2|Martin|New York', '3|Sam|Sydney', '4|Alan|Mexico City', '5|Jacob|Florida']\n",
            "+---+------+-----------+\n",
            "| _1|    _2|         _3|\n",
            "+---+------+-----------+\n",
            "|  1|  John|     London|\n",
            "|  2|Martin|   New York|\n",
            "|  3|   Sam|     Sydney|\n",
            "|  4|  Alan|Mexico City|\n",
            "|  5| Jacob|    Florida|\n",
            "+---+------+-----------+\n",
            "\n",
            "root\n",
            " |-- _1: long (nullable = true)\n",
            " |-- _2: string (nullable = true)\n",
            " |-- _3: string (nullable = true)\n",
            "\n",
            "+---+------+-----------+\n",
            "| id|  name|       city|\n",
            "+---+------+-----------+\n",
            "|  1|  John|     London|\n",
            "|  2|Martin|   New York|\n",
            "|  3|   Sam|     Sydney|\n",
            "|  4|  Alan|Mexico City|\n",
            "|  5| Jacob|    Florida|\n",
            "+---+------+-----------+\n",
            "\n",
            "root\n",
            " |-- id: integer (nullable = true)\n",
            " |-- name: string (nullable = true)\n",
            " |-- city: string (nullable = true)\n",
            "\n"
          ]
        }
      ]
    },
    {
      "cell_type": "markdown",
      "source": [
        "RDD example 2"
      ],
      "metadata": {
        "id": "BTAE_8mvYoVF"
      }
    },
    {
      "cell_type": "code",
      "source": [
        "users_list_1 = [(1, \"John\", \"London\"), (2, \"Martin\", \"New York\"), (3, \"Sam\", \"Sydney\"), (4, \"Alan\", \"Mexico City\"), (5, \"Jacob\", \"Florida\")]\n",
        "print(users_list_1)\n",
        "\n",
        "users_df_1 = spark.createDataFrame(users_list_1)\n",
        "users_df_1.show(10)\n",
        "users_df_1.printSchema()\n",
        "\n",
        "from pyspark.sql.types import StructType, StructField, IntegerType, StringType\n",
        "\n",
        "users_schema = StructType([\n",
        "                          StructField(\"id\", IntegerType(), True),\n",
        "                          StructField(\"name\", StringType(), True),\n",
        "                          StructField(\"city\", StringType(), True)])\n",
        "\n",
        "users_df_11 = spark.createDataFrame(users_list_1, schema=users_schema)\n",
        "users_df_11.show(10)\n",
        "users_df_11.printSchema()"
      ],
      "metadata": {
        "colab": {
          "base_uri": "https://localhost:8080/"
        },
        "id": "EDj6rm_tYKxl",
        "outputId": "b000b35c-f545-4882-f830-42698a5be253"
      },
      "execution_count": 27,
      "outputs": [
        {
          "output_type": "stream",
          "name": "stdout",
          "text": [
            "[(1, 'John', 'London'), (2, 'Martin', 'New York'), (3, 'Sam', 'Sydney'), (4, 'Alan', 'Mexico City'), (5, 'Jacob', 'Florida')]\n",
            "+---+------+-----------+\n",
            "| _1|    _2|         _3|\n",
            "+---+------+-----------+\n",
            "|  1|  John|     London|\n",
            "|  2|Martin|   New York|\n",
            "|  3|   Sam|     Sydney|\n",
            "|  4|  Alan|Mexico City|\n",
            "|  5| Jacob|    Florida|\n",
            "+---+------+-----------+\n",
            "\n",
            "root\n",
            " |-- _1: long (nullable = true)\n",
            " |-- _2: string (nullable = true)\n",
            " |-- _3: string (nullable = true)\n",
            "\n",
            "+---+------+-----------+\n",
            "| id|  name|       city|\n",
            "+---+------+-----------+\n",
            "|  1|  John|     London|\n",
            "|  2|Martin|   New York|\n",
            "|  3|   Sam|     Sydney|\n",
            "|  4|  Alan|Mexico City|\n",
            "|  5| Jacob|    Florida|\n",
            "+---+------+-----------+\n",
            "\n",
            "root\n",
            " |-- id: integer (nullable = true)\n",
            " |-- name: string (nullable = true)\n",
            " |-- city: string (nullable = true)\n",
            "\n"
          ]
        }
      ]
    },
    {
      "cell_type": "markdown",
      "source": [
        "RDD Example 3"
      ],
      "metadata": {
        "id": "yld2Dj4JY8cK"
      }
    },
    {
      "cell_type": "code",
      "source": [
        "#Option 3\n",
        "from pyspark.sql import Row\n",
        "\n",
        "users_list_2 = [Row(1, \"John\", \"London\"), Row(2, \"Martin\", \"New York\"), Row(3, \"Sam\", \"Sydney\"), Row(4, \"Alan\", \"Mexico City\"), Row(5, \"Jacob\", \"Florida\")]\n",
        "print(users_list_2)\n",
        "\n",
        "users_df_2 = spark.createDataFrame(users_list_2)\n",
        "users_df_2.show(10)\n",
        "users_df_2.printSchema()\n",
        "\n",
        "users_df_21 = spark.createDataFrame(users_list_2, schema=users_schema)\n",
        "users_df_21.show(10)\n",
        "users_df_21.printSchema()"
      ],
      "metadata": {
        "colab": {
          "base_uri": "https://localhost:8080/"
        },
        "id": "Olh-NStSY-c8",
        "outputId": "ee4d5fef-9ae0-4a5f-f73e-d45fa96b2dc6"
      },
      "execution_count": 28,
      "outputs": [
        {
          "output_type": "stream",
          "name": "stdout",
          "text": [
            "[<Row(1, 'John', 'London')>, <Row(2, 'Martin', 'New York')>, <Row(3, 'Sam', 'Sydney')>, <Row(4, 'Alan', 'Mexico City')>, <Row(5, 'Jacob', 'Florida')>]\n",
            "+---+------+-----------+\n",
            "| _1|    _2|         _3|\n",
            "+---+------+-----------+\n",
            "|  1|  John|     London|\n",
            "|  2|Martin|   New York|\n",
            "|  3|   Sam|     Sydney|\n",
            "|  4|  Alan|Mexico City|\n",
            "|  5| Jacob|    Florida|\n",
            "+---+------+-----------+\n",
            "\n",
            "root\n",
            " |-- _1: long (nullable = true)\n",
            " |-- _2: string (nullable = true)\n",
            " |-- _3: string (nullable = true)\n",
            "\n",
            "+---+------+-----------+\n",
            "| id|  name|       city|\n",
            "+---+------+-----------+\n",
            "|  1|  John|     London|\n",
            "|  2|Martin|   New York|\n",
            "|  3|   Sam|     Sydney|\n",
            "|  4|  Alan|Mexico City|\n",
            "|  5| Jacob|    Florida|\n",
            "+---+------+-----------+\n",
            "\n",
            "root\n",
            " |-- id: integer (nullable = true)\n",
            " |-- name: string (nullable = true)\n",
            " |-- city: string (nullable = true)\n",
            "\n"
          ]
        }
      ]
    },
    {
      "cell_type": "code",
      "source": [
        "#reading json and csv files\n",
        "#df_json = spark.read.json(\"simple_zipcodes.json\")\n",
        "#df_csv = spark.read.csv(\"simple_zipcodes.csv\")"
      ],
      "metadata": {
        "id": "SACD0bc3PdZm"
      },
      "execution_count": 29,
      "outputs": []
    },
    {
      "cell_type": "code",
      "source": [],
      "metadata": {
        "id": "QwtBiPjFPl4t"
      },
      "execution_count": null,
      "outputs": []
    }
  ]
}