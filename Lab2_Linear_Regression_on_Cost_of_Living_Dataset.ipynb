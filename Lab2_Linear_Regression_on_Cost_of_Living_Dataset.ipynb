{
  "nbformat": 4,
  "nbformat_minor": 0,
  "metadata": {
    "colab": {
      "provenance": [],
      "authorship_tag": "ABX9TyOVE9KqTnpBJKnF1Uy6GdI2",
      "include_colab_link": true
    },
    "kernelspec": {
      "name": "python3",
      "display_name": "Python 3"
    },
    "language_info": {
      "name": "python"
    }
  },
  "cells": [
    {
      "cell_type": "markdown",
      "metadata": {
        "id": "view-in-github",
        "colab_type": "text"
      },
      "source": [
        "<a href=\"https://colab.research.google.com/github/NushratRia/Big-Data/blob/main/Lab2_Linear_Regression_on_Cost_of_Living_Dataset.ipynb\" target=\"_parent\"><img src=\"https://colab.research.google.com/assets/colab-badge.svg\" alt=\"Open In Colab\"/></a>"
      ]
    },
    {
      "cell_type": "code",
      "execution_count": null,
      "metadata": {
        "colab": {
          "base_uri": "https://localhost:8080/"
        },
        "id": "C5_0zaqm--Hm",
        "outputId": "85bb31e4-8065-42d7-a18e-0ce53f8f8875"
      },
      "outputs": [
        {
          "output_type": "stream",
          "name": "stdout",
          "text": [
            "Collecting PySpark\n",
            "  Downloading pyspark-3.4.1.tar.gz (310.8 MB)\n",
            "\u001b[2K     \u001b[90m━━━━━━━━━━━━━━━━━━━━━━━━━━━━━━━━━━━━━━━\u001b[0m \u001b[32m310.8/310.8 MB\u001b[0m \u001b[31m4.4 MB/s\u001b[0m eta \u001b[36m0:00:00\u001b[0m\n",
            "\u001b[?25h  Preparing metadata (setup.py) ... \u001b[?25l\u001b[?25hdone\n",
            "Requirement already satisfied: py4j==0.10.9.7 in /usr/local/lib/python3.10/dist-packages (from PySpark) (0.10.9.7)\n",
            "Building wheels for collected packages: PySpark\n",
            "  Building wheel for PySpark (setup.py) ... \u001b[?25l\u001b[?25hdone\n",
            "  Created wheel for PySpark: filename=pyspark-3.4.1-py2.py3-none-any.whl size=311285397 sha256=bd40a3f82698e5384502e4d7259b638a3927a6852b3a94cbd4be605b50f7f93c\n",
            "  Stored in directory: /root/.cache/pip/wheels/0d/77/a3/ff2f74cc9ab41f8f594dabf0579c2a7c6de920d584206e0834\n",
            "Successfully built PySpark\n",
            "Installing collected packages: PySpark\n",
            "Successfully installed PySpark-3.4.1\n"
          ]
        }
      ],
      "source": [
        "!pip install PySpark"
      ]
    },
    {
      "cell_type": "code",
      "source": [
        "import pyspark"
      ],
      "metadata": {
        "id": "JSR0fROG_bf3"
      },
      "execution_count": null,
      "outputs": []
    },
    {
      "cell_type": "markdown",
      "source": [
        "Creating the first Pyspark session"
      ],
      "metadata": {
        "id": "a_sv-0qP_pcq"
      }
    },
    {
      "cell_type": "code",
      "source": [
        "#The entry point into all functionality in PySpark is the SparkSession class.\n",
        "#To create a basic SparkSession, just use SparkSession.builder:\n",
        "\n",
        "from pyspark.sql import SparkSession\n",
        "spark= SparkSession.builder.appName('LivingExpenses').getOrCreate()"
      ],
      "metadata": {
        "id": "MX0I0jCM_qX2"
      },
      "execution_count": null,
      "outputs": []
    },
    {
      "cell_type": "code",
      "source": [
        "df=spark.read.csv(\"/content/Cost_of_Living_Index_2022.csv\", header=True, inferSchema=True)"
      ],
      "metadata": {
        "id": "aV0n-MvP-Yo6"
      },
      "execution_count": null,
      "outputs": []
    },
    {
      "cell_type": "markdown",
      "source": [
        "Read the I/P file and check the columns"
      ],
      "metadata": {
        "id": "VxEuY_dJ-Pfp"
      }
    },
    {
      "cell_type": "code",
      "source": [
        "#If we don't use the header metadata, the headers are _c0, _c1 and _c2 which is not correct.\n",
        "#Therefore we can fix that using header=True.\n",
        "\n",
        "#Similarly, without inferschema, all columns would be treated as default datatype(String)\n",
        "#Therefore to fix this, we put inferSchema=true , PySpark will automatically go through the csv file and infer the schema of each column\n",
        "df_train= spark.read.csv(\"/content/Cost_of_Living_Index_2022.csv\", header=True, inferSchema=True)\n",
        "df_train.show()"
      ],
      "metadata": {
        "id": "oIIbAHCgAJFH",
        "colab": {
          "base_uri": "https://localhost:8080/"
        },
        "outputId": "6a9d4fef-3287-43b1-aca1-d05e744afda7"
      },
      "execution_count": null,
      "outputs": [
        {
          "output_type": "stream",
          "name": "stdout",
          "text": [
            "+----+--------------------+--------------------+----------+------------------------------+---------------+----------------------+----------------------------+\n",
            "|Rank|             Country|Cost of Living Index|Rent Index|Cost of Living Plus Rent Index|Groceries Index|Restaurant Price Index|Local Purchasing Power Index|\n",
            "+----+--------------------+--------------------+----------+------------------------------+---------------+----------------------+----------------------------+\n",
            "|   1|         Afghanistan|               20.37|      2.72|                         12.09|          14.92|                 12.41|                       23.04|\n",
            "|   2|             Albania|                35.5|      8.47|                         22.83|          29.32|                 25.82|                       30.19|\n",
            "|   3|             Algeria|               26.87|      4.59|                         16.43|          28.82|                 14.48|                       24.63|\n",
            "|   4|           Argentina|               34.69|      7.71|                         22.04|          28.17|                 33.32|                       30.72|\n",
            "|   5|             Armenia|               33.89|     11.61|                         23.45|          27.59|                 30.55|                       28.86|\n",
            "|   6|           Australia|               77.75|     36.84|                         58.57|          77.44|                 72.95|                      104.63|\n",
            "|   7|             Austria|               71.04|     27.13|                         50.46|          65.88|                 66.03|                       77.25|\n",
            "|   8|          Azerbaijan|               29.73|      7.86|                         19.48|          26.57|                 26.73|                       27.26|\n",
            "|   9|             Bahamas|                84.0|     35.34|                         61.19|          70.59|                 89.09|                       45.07|\n",
            "|  10|             Bahrain|               54.77|     29.22|                         42.79|          44.59|                 48.94|                       61.41|\n",
            "|  11|          Bangladesh|               33.13|      4.42|                         19.67|          30.41|                  21.7|                        25.3|\n",
            "|  12|            Barbados|               92.37|     21.99|                         59.38|          87.81|                 78.18|                       32.08|\n",
            "|  13|             Belarus|               30.89|      9.81|                         21.01|          27.24|                 31.64|                       31.78|\n",
            "|  14|             Belgium|               72.61|     25.79|                         50.67|          63.32|                 78.63|                       79.72|\n",
            "|  15|              Belize|                51.3|     11.64|                         32.71|          48.76|                  36.6|                       45.73|\n",
            "|  16|             Bermuda|              146.04|     98.58|                         123.8|         148.66|                159.17|                       81.07|\n",
            "|  17|             Bolivia|               34.77|     10.18|                         23.24|          31.26|                 24.97|                       36.04|\n",
            "|  18|Bosnia And Herzeg...|               36.12|      6.82|                         22.39|          31.14|                 25.34|                        44.1|\n",
            "|  19|            Botswana|               40.17|     10.21|                         26.12|          35.16|                  42.5|                       62.63|\n",
            "|  20|              Brazil|               33.24|      8.27|                         21.54|          28.16|                 25.24|                       27.85|\n",
            "+----+--------------------+--------------------+----------+------------------------------+---------------+----------------------+----------------------------+\n",
            "only showing top 20 rows\n",
            "\n"
          ]
        }
      ]
    },
    {
      "cell_type": "code",
      "source": [
        "df_train.printSchema()"
      ],
      "metadata": {
        "colab": {
          "base_uri": "https://localhost:8080/"
        },
        "id": "PwpeYdty_eWy",
        "outputId": "d230d5a1-2451-4187-be12-ca98765aa8c7"
      },
      "execution_count": null,
      "outputs": [
        {
          "output_type": "stream",
          "name": "stdout",
          "text": [
            "root\n",
            " |-- Rank: integer (nullable = true)\n",
            " |-- Country: string (nullable = true)\n",
            " |-- Cost of Living Index: double (nullable = true)\n",
            " |-- Rent Index: double (nullable = true)\n",
            " |-- Cost of Living Plus Rent Index: double (nullable = true)\n",
            " |-- Groceries Index: double (nullable = true)\n",
            " |-- Restaurant Price Index: double (nullable = true)\n",
            " |-- Local Purchasing Power Index: double (nullable = true)\n",
            "\n"
          ]
        }
      ]
    },
    {
      "cell_type": "code",
      "source": [
        "df_train.columns"
      ],
      "metadata": {
        "colab": {
          "base_uri": "https://localhost:8080/"
        },
        "id": "Pm8XEzuF_nux",
        "outputId": "8cd8ef82-727d-494c-906a-9c1b76499120"
      },
      "execution_count": null,
      "outputs": [
        {
          "output_type": "execute_result",
          "data": {
            "text/plain": [
              "['Rank',\n",
              " 'Country',\n",
              " 'Cost of Living Index',\n",
              " 'Rent Index',\n",
              " 'Cost of Living Plus Rent Index',\n",
              " 'Groceries Index',\n",
              " 'Restaurant Price Index',\n",
              " 'Local Purchasing Power Index']"
            ]
          },
          "metadata": {},
          "execution_count": 11
        }
      ]
    },
    {
      "cell_type": "markdown",
      "source": [
        "**Invoking VectorAssembler for grouping the required features**"
      ],
      "metadata": {
        "id": "vllbssKU_tsp"
      }
    },
    {
      "cell_type": "code",
      "source": [
        "#VectorAssembler is a transformer that combines a given list of columns into a single vector column.\n",
        "#It is useful for combining raw features and features generated by different feature transformers\n",
        "#into a single feature vector, in order to train ML models like logistic regression and decision trees.\n",
        "\n",
        "\n",
        "#VectorAssembler accepts the following input column types: all numeric types, boolean type, and vector type.\n",
        "#In each row, the values of the input columns will be concatenated into a vector in the specified order.\n",
        "\n",
        "\n",
        "from pyspark.ml.feature import VectorAssembler\n",
        "featureassembler=VectorAssembler(inputCols=['Rent Index','Cost of Living Plus Rent Index','Groceries Index','Restaurant Price Index','Local Purchasing Power Index'], outputCol='Independant Features')"
      ],
      "metadata": {
        "id": "rlTpq09L_qJh"
      },
      "execution_count": null,
      "outputs": []
    },
    {
      "cell_type": "code",
      "source": [
        "#transform each element of the input array + Independant features column\n",
        "output=featureassembler.transform(df_train)"
      ],
      "metadata": {
        "id": "Gen2NkjE_0XZ"
      },
      "execution_count": null,
      "outputs": []
    },
    {
      "cell_type": "code",
      "source": [
        "output.show()"
      ],
      "metadata": {
        "colab": {
          "base_uri": "https://localhost:8080/"
        },
        "id": "W0_Lasnf_2l5",
        "outputId": "5ac35c7e-4273-4a09-fdc3-072f57017e97"
      },
      "execution_count": null,
      "outputs": [
        {
          "output_type": "stream",
          "name": "stdout",
          "text": [
            "+----+--------------------+--------------------+----------+------------------------------+---------------+----------------------+----------------------------+--------------------+\n",
            "|Rank|             Country|Cost of Living Index|Rent Index|Cost of Living Plus Rent Index|Groceries Index|Restaurant Price Index|Local Purchasing Power Index|Independant Features|\n",
            "+----+--------------------+--------------------+----------+------------------------------+---------------+----------------------+----------------------------+--------------------+\n",
            "|   1|         Afghanistan|               20.37|      2.72|                         12.09|          14.92|                 12.41|                       23.04|[2.72,12.09,14.92...|\n",
            "|   2|             Albania|                35.5|      8.47|                         22.83|          29.32|                 25.82|                       30.19|[8.47,22.83,29.32...|\n",
            "|   3|             Algeria|               26.87|      4.59|                         16.43|          28.82|                 14.48|                       24.63|[4.59,16.43,28.82...|\n",
            "|   4|           Argentina|               34.69|      7.71|                         22.04|          28.17|                 33.32|                       30.72|[7.71,22.04,28.17...|\n",
            "|   5|             Armenia|               33.89|     11.61|                         23.45|          27.59|                 30.55|                       28.86|[11.61,23.45,27.5...|\n",
            "|   6|           Australia|               77.75|     36.84|                         58.57|          77.44|                 72.95|                      104.63|[36.84,58.57,77.4...|\n",
            "|   7|             Austria|               71.04|     27.13|                         50.46|          65.88|                 66.03|                       77.25|[27.13,50.46,65.8...|\n",
            "|   8|          Azerbaijan|               29.73|      7.86|                         19.48|          26.57|                 26.73|                       27.26|[7.86,19.48,26.57...|\n",
            "|   9|             Bahamas|                84.0|     35.34|                         61.19|          70.59|                 89.09|                       45.07|[35.34,61.19,70.5...|\n",
            "|  10|             Bahrain|               54.77|     29.22|                         42.79|          44.59|                 48.94|                       61.41|[29.22,42.79,44.5...|\n",
            "|  11|          Bangladesh|               33.13|      4.42|                         19.67|          30.41|                  21.7|                        25.3|[4.42,19.67,30.41...|\n",
            "|  12|            Barbados|               92.37|     21.99|                         59.38|          87.81|                 78.18|                       32.08|[21.99,59.38,87.8...|\n",
            "|  13|             Belarus|               30.89|      9.81|                         21.01|          27.24|                 31.64|                       31.78|[9.81,21.01,27.24...|\n",
            "|  14|             Belgium|               72.61|     25.79|                         50.67|          63.32|                 78.63|                       79.72|[25.79,50.67,63.3...|\n",
            "|  15|              Belize|                51.3|     11.64|                         32.71|          48.76|                  36.6|                       45.73|[11.64,32.71,48.7...|\n",
            "|  16|             Bermuda|              146.04|     98.58|                         123.8|         148.66|                159.17|                       81.07|[98.58,123.8,148....|\n",
            "|  17|             Bolivia|               34.77|     10.18|                         23.24|          31.26|                 24.97|                       36.04|[10.18,23.24,31.2...|\n",
            "|  18|Bosnia And Herzeg...|               36.12|      6.82|                         22.39|          31.14|                 25.34|                        44.1|[6.82,22.39,31.14...|\n",
            "|  19|            Botswana|               40.17|     10.21|                         26.12|          35.16|                  42.5|                       62.63|[10.21,26.12,35.1...|\n",
            "|  20|              Brazil|               33.24|      8.27|                         21.54|          28.16|                 25.24|                       27.85|[8.27,21.54,28.16...|\n",
            "+----+--------------------+--------------------+----------+------------------------------+---------------+----------------------+----------------------------+--------------------+\n",
            "only showing top 20 rows\n",
            "\n"
          ]
        }
      ]
    },
    {
      "cell_type": "code",
      "source": [
        "output.columns"
      ],
      "metadata": {
        "colab": {
          "base_uri": "https://localhost:8080/"
        },
        "id": "tyuMgq3d_4E5",
        "outputId": "7c77d074-971d-471e-8d57-2eddbe38641e"
      },
      "execution_count": null,
      "outputs": [
        {
          "output_type": "execute_result",
          "data": {
            "text/plain": [
              "['Rank',\n",
              " 'Country',\n",
              " 'Cost of Living Index',\n",
              " 'Rent Index',\n",
              " 'Cost of Living Plus Rent Index',\n",
              " 'Groceries Index',\n",
              " 'Restaurant Price Index',\n",
              " 'Local Purchasing Power Index',\n",
              " 'Independant Features']"
            ]
          },
          "metadata": {},
          "execution_count": 15
        }
      ]
    },
    {
      "cell_type": "markdown",
      "source": [
        "**Create the final output with the desired target variable**"
      ],
      "metadata": {
        "id": "ya88MivJ_9FR"
      }
    },
    {
      "cell_type": "code",
      "source": [
        "# The .select() is a transformation function that is used to select the columns from DataFrame and Dataset\n",
        "fin_output= output.select(\"Independant Features\", \"Cost of Living Index\")"
      ],
      "metadata": {
        "id": "Jc1m1bM8_7e4"
      },
      "execution_count": null,
      "outputs": []
    },
    {
      "cell_type": "code",
      "source": [
        "fin_output.show()"
      ],
      "metadata": {
        "colab": {
          "base_uri": "https://localhost:8080/"
        },
        "id": "YuSh2O2iAAsR",
        "outputId": "5ca21833-760b-4a93-811b-c7457944a2de"
      },
      "execution_count": null,
      "outputs": [
        {
          "output_type": "stream",
          "name": "stdout",
          "text": [
            "+--------------------+--------------------+\n",
            "|Independant Features|Cost of Living Index|\n",
            "+--------------------+--------------------+\n",
            "|[2.72,12.09,14.92...|               20.37|\n",
            "|[8.47,22.83,29.32...|                35.5|\n",
            "|[4.59,16.43,28.82...|               26.87|\n",
            "|[7.71,22.04,28.17...|               34.69|\n",
            "|[11.61,23.45,27.5...|               33.89|\n",
            "|[36.84,58.57,77.4...|               77.75|\n",
            "|[27.13,50.46,65.8...|               71.04|\n",
            "|[7.86,19.48,26.57...|               29.73|\n",
            "|[35.34,61.19,70.5...|                84.0|\n",
            "|[29.22,42.79,44.5...|               54.77|\n",
            "|[4.42,19.67,30.41...|               33.13|\n",
            "|[21.99,59.38,87.8...|               92.37|\n",
            "|[9.81,21.01,27.24...|               30.89|\n",
            "|[25.79,50.67,63.3...|               72.61|\n",
            "|[11.64,32.71,48.7...|                51.3|\n",
            "|[98.58,123.8,148....|              146.04|\n",
            "|[10.18,23.24,31.2...|               34.77|\n",
            "|[6.82,22.39,31.14...|               36.12|\n",
            "|[10.21,26.12,35.1...|               40.17|\n",
            "|[8.27,21.54,28.16...|               33.24|\n",
            "+--------------------+--------------------+\n",
            "only showing top 20 rows\n",
            "\n"
          ]
        }
      ]
    },
    {
      "cell_type": "markdown",
      "source": [
        "**Baseline Model Training using Linear Regression**"
      ],
      "metadata": {
        "id": "g1-ohX6NAHNR"
      }
    },
    {
      "cell_type": "code",
      "source": [
        "from pyspark.ml.regression import LinearRegression\n",
        "\n",
        "#train_test_split\n",
        "#featuresCol will be the input column and labelCol will be the target column\n",
        "train_X, test_X= fin_output.randomSplit([0.8, 0.2])\n",
        "reg=LinearRegression(featuresCol='Independant Features', labelCol='Cost of Living Index')\n",
        "reg=reg.fit(train_X)"
      ],
      "metadata": {
        "id": "i-zx7o-zAC55"
      },
      "execution_count": null,
      "outputs": []
    },
    {
      "cell_type": "code",
      "source": [
        "#Getting the set of coefficients and intercepsts.\n",
        "reg.coefficients"
      ],
      "metadata": {
        "colab": {
          "base_uri": "https://localhost:8080/"
        },
        "id": "1MOkx2vIAK1x",
        "outputId": "99f449be-3dcd-4a1a-a97d-490c105903a0"
      },
      "execution_count": null,
      "outputs": [
        {
          "output_type": "execute_result",
          "data": {
            "text/plain": [
              "DenseVector([-0.8827, 1.8829, -0.0002, -0.0001, 0.0])"
            ]
          },
          "metadata": {},
          "execution_count": 19
        }
      ]
    },
    {
      "cell_type": "code",
      "source": [
        "reg.intercept"
      ],
      "metadata": {
        "colab": {
          "base_uri": "https://localhost:8080/"
        },
        "id": "NY2y2lSBAMY5",
        "outputId": "e1a11f22-6663-45c2-8928-3c25e74c9c70"
      },
      "execution_count": null,
      "outputs": [
        {
          "output_type": "execute_result",
          "data": {
            "text/plain": [
              "-0.0018674836437061618"
            ]
          },
          "metadata": {},
          "execution_count": 20
        }
      ]
    },
    {
      "cell_type": "markdown",
      "source": [
        "**Model Evaluation**"
      ],
      "metadata": {
        "id": "RoAPLVnoAP-5"
      }
    },
    {
      "cell_type": "code",
      "source": [
        "pred=reg.evaluate(test_X)"
      ],
      "metadata": {
        "id": "KQ8Ws2P5AODZ"
      },
      "execution_count": null,
      "outputs": []
    },
    {
      "cell_type": "code",
      "source": [
        "pred.predictions.show()"
      ],
      "metadata": {
        "colab": {
          "base_uri": "https://localhost:8080/"
        },
        "id": "wJGIT3khASCp",
        "outputId": "cf38b243-5816-4a01-a7c4-cd6640e9d802"
      },
      "execution_count": null,
      "outputs": [
        {
          "output_type": "stream",
          "name": "stdout",
          "text": [
            "+--------------------+--------------------+------------------+\n",
            "|Independant Features|Cost of Living Index|        prediction|\n",
            "+--------------------+--------------------+------------------+\n",
            "|[3.96,16.89,26.45...|               28.29| 28.29911528768681|\n",
            "|[4.42,19.67,30.41...|               33.13|33.126856720937894|\n",
            "|[5.16,20.79,39.39...|               34.58| 34.58053232074577|\n",
            "|[8.18,18.03,23.47...|               26.72| 26.72165568727273|\n",
            "|[8.27,21.54,28.16...|               33.24|33.249751771268414|\n",
            "|[8.47,22.83,29.32...|                35.5| 35.50199834558498|\n",
            "|[8.68,25.13,38.13...|               39.64|  39.6452283183071|\n",
            "|[8.75,28.37,39.88...|               45.68| 45.68261164683714|\n",
            "|[9.26,20.37,26.44...|               30.18|30.172987803813886|\n",
            "|[9.82,23.65,38.29...|               35.85| 35.85349805845656|\n",
            "|[9.87,24.29,39.45...|               37.02|37.014948364690405|\n",
            "|[10.95,28.55,45.6...|               44.08| 44.07956686046864|\n",
            "|[12.68,35.81,44.7...|               56.22|  56.2208822253561|\n",
            "|[13.93,34.19,44.0...|               52.07| 52.06736731492575|\n",
            "|[20.55,44.95,57.9...|               66.47| 66.48051061438048|\n",
            "|[21.99,59.38,87.8...|               92.37| 92.37304580484196|\n",
            "|[22.36,41.84,49.2...|               59.03| 59.02950519989937|\n",
            "|[25.33,51.26,73.6...|               74.13| 74.14051212025207|\n",
            "|[25.79,50.67,63.3...|               72.61|  72.6243952728155|\n",
            "|[29.22,42.79,44.5...|               54.77| 54.76562736070848|\n",
            "+--------------------+--------------------+------------------+\n",
            "only showing top 20 rows\n",
            "\n"
          ]
        }
      ]
    },
    {
      "cell_type": "code",
      "source": [
        "pred.meanAbsoluteError, pred.meanSquaredError"
      ],
      "metadata": {
        "id": "HnomUZUKAVb5",
        "outputId": "afa851a3-53a6-4a27-803d-952832952975",
        "colab": {
          "base_uri": "https://localhost:8080/"
        }
      },
      "execution_count": null,
      "outputs": [
        {
          "output_type": "execute_result",
          "data": {
            "text/plain": [
              "(0.005114915497241561, 4.395970631337705e-05)"
            ]
          },
          "metadata": {},
          "execution_count": 23
        }
      ]
    },
    {
      "cell_type": "code",
      "source": [],
      "metadata": {
        "id": "d_3SKjz_AYtJ"
      },
      "execution_count": null,
      "outputs": []
    }
  ]
}